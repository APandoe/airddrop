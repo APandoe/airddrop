{
 "cells": [
  {
   "cell_type": "code",
   "execution_count": 1,
   "metadata": {},
   "outputs": [],
   "source": [
    "### cs109default ### \n",
    "import random\n",
    "random.seed(112358)\n",
    "\n",
    "import numpy as np\n",
    "import pandas as pd\n",
    "import matplotlib.pyplot as plt\n",
    "\n",
    "%matplotlib inline\n",
    "\n",
    "import seaborn as sns\n",
    "pd.set_option('display.width', 1500)\n",
    "pd.set_option('display.max_columns', 100)\n",
    "\n",
    "from scipy import signal\n",
    "sns.set_context(\"talk\")\n",
    "sns.set_style(\"whitegrid\", {\"axes.facecolor\": \".999\"})\n",
    "import pickle"
   ]
  },
  {
   "cell_type": "code",
   "execution_count": 2,
   "metadata": {
    "scrolled": false
   },
   "outputs": [
    {
     "data": {
      "text/html": [
       "<div>\n",
       "<style scoped>\n",
       "    .dataframe tbody tr th:only-of-type {\n",
       "        vertical-align: middle;\n",
       "    }\n",
       "\n",
       "    .dataframe tbody tr th {\n",
       "        vertical-align: top;\n",
       "    }\n",
       "\n",
       "    .dataframe thead th {\n",
       "        text-align: right;\n",
       "    }\n",
       "</style>\n",
       "<table border=\"1\" class=\"dataframe\">\n",
       "  <thead>\n",
       "    <tr style=\"text-align: right;\">\n",
       "      <th></th>\n",
       "      <th>time</th>\n",
       "      <th>label</th>\n",
       "      <th>value</th>\n",
       "    </tr>\n",
       "  </thead>\n",
       "  <tbody>\n",
       "    <tr>\n",
       "      <td>0</td>\n",
       "      <td>3:11:34 PM</td>\n",
       "      <td>Heartrate</td>\n",
       "      <td>0.0</td>\n",
       "    </tr>\n",
       "    <tr>\n",
       "      <td>1</td>\n",
       "      <td>3:11:34 PM</td>\n",
       "      <td>Confidence</td>\n",
       "      <td>0.0</td>\n",
       "    </tr>\n",
       "    <tr>\n",
       "      <td>2</td>\n",
       "      <td>3:11:34 PM</td>\n",
       "      <td>Oxygen</td>\n",
       "      <td>0.0</td>\n",
       "    </tr>\n",
       "    <tr>\n",
       "      <td>3</td>\n",
       "      <td>3:11:34 PM</td>\n",
       "      <td>Status</td>\n",
       "      <td>0.0</td>\n",
       "    </tr>\n",
       "    <tr>\n",
       "      <td>4</td>\n",
       "      <td>3:11:34 PM</td>\n",
       "      <td>Extended Status</td>\n",
       "      <td>-3.0</td>\n",
       "    </tr>\n",
       "  </tbody>\n",
       "</table>\n",
       "</div>"
      ],
      "text/plain": [
       "         time             label  value\n",
       "0  3:11:34 PM         Heartrate    0.0\n",
       "1  3:11:34 PM        Confidence    0.0\n",
       "2  3:11:34 PM            Oxygen    0.0\n",
       "3  3:11:34 PM            Status    0.0\n",
       "4  3:11:34 PM   Extended Status   -3.0"
      ]
     },
     "metadata": {},
     "output_type": "display_data"
    }
   ],
   "source": [
    "# preparing data\n",
    "FILE = 'MADDYJ_1125_data.csv'\n",
    "\n",
    "# reading in CSV file for sensor-calculated HR data\n",
    "data_sensor_clh = pd.read_csv(FILE)\n",
    "display(data_sensor_clh.head())\n",
    "\n",
    "# removing unnecessary columns, reformatting\n",
    "# data_sensor_clh = data_sensor_clh.drop(columns = [str('Unnamed: 2')])\n",
    "# sensor_hr = data_sensor_clh.loc[data_sensor_clh['label'] == str(' Heartrate')].drop(columns = [str('label')])"
   ]
  },
  {
   "cell_type": "code",
   "execution_count": 3,
   "metadata": {
    "scrolled": true
   },
   "outputs": [
    {
     "data": {
      "text/html": [
       "<div>\n",
       "<style scoped>\n",
       "    .dataframe tbody tr th:only-of-type {\n",
       "        vertical-align: middle;\n",
       "    }\n",
       "\n",
       "    .dataframe tbody tr th {\n",
       "        vertical-align: top;\n",
       "    }\n",
       "\n",
       "    .dataframe thead th {\n",
       "        text-align: right;\n",
       "    }\n",
       "</style>\n",
       "<table border=\"1\" class=\"dataframe\">\n",
       "  <thead>\n",
       "    <tr style=\"text-align: right;\">\n",
       "      <th></th>\n",
       "      <th>time</th>\n",
       "      <th>value</th>\n",
       "    </tr>\n",
       "  </thead>\n",
       "  <tbody>\n",
       "    <tr>\n",
       "      <td>0</td>\n",
       "      <td>3:11:34 PM</td>\n",
       "      <td>0.0</td>\n",
       "    </tr>\n",
       "    <tr>\n",
       "      <td>10</td>\n",
       "      <td>3:11:39 PM</td>\n",
       "      <td>0.0</td>\n",
       "    </tr>\n",
       "    <tr>\n",
       "      <td>20</td>\n",
       "      <td>3:11:44 PM</td>\n",
       "      <td>0.0</td>\n",
       "    </tr>\n",
       "    <tr>\n",
       "      <td>30</td>\n",
       "      <td>3:11:49 PM</td>\n",
       "      <td>0.0</td>\n",
       "    </tr>\n",
       "    <tr>\n",
       "      <td>40</td>\n",
       "      <td>3:11:54 PM</td>\n",
       "      <td>0.0</td>\n",
       "    </tr>\n",
       "    <tr>\n",
       "      <td>...</td>\n",
       "      <td>...</td>\n",
       "      <td>...</td>\n",
       "    </tr>\n",
       "    <tr>\n",
       "      <td>630</td>\n",
       "      <td>3:16:50 PM</td>\n",
       "      <td>102.0</td>\n",
       "    </tr>\n",
       "    <tr>\n",
       "      <td>640</td>\n",
       "      <td>3:16:55 PM</td>\n",
       "      <td>99.0</td>\n",
       "    </tr>\n",
       "    <tr>\n",
       "      <td>650</td>\n",
       "      <td>3:17:00 PM</td>\n",
       "      <td>98.0</td>\n",
       "    </tr>\n",
       "    <tr>\n",
       "      <td>660</td>\n",
       "      <td>3:17:05 PM</td>\n",
       "      <td>100.0</td>\n",
       "    </tr>\n",
       "    <tr>\n",
       "      <td>670</td>\n",
       "      <td>3:17:10 PM</td>\n",
       "      <td>100.0</td>\n",
       "    </tr>\n",
       "  </tbody>\n",
       "</table>\n",
       "<p>68 rows × 2 columns</p>\n",
       "</div>"
      ],
      "text/plain": [
       "           time  value\n",
       "0    3:11:34 PM    0.0\n",
       "10   3:11:39 PM    0.0\n",
       "20   3:11:44 PM    0.0\n",
       "30   3:11:49 PM    0.0\n",
       "40   3:11:54 PM    0.0\n",
       "..          ...    ...\n",
       "630  3:16:50 PM  102.0\n",
       "640  3:16:55 PM   99.0\n",
       "650  3:17:00 PM   98.0\n",
       "660  3:17:05 PM  100.0\n",
       "670  3:17:10 PM  100.0\n",
       "\n",
       "[68 rows x 2 columns]"
      ]
     },
     "metadata": {},
     "output_type": "display_data"
    }
   ],
   "source": [
    "sensor_hr = data_sensor_clh.loc[data_sensor_clh['label'] == str(' Heartrate')].drop(columns = [str('label')])\n",
    "display(sensor_hr)\n",
    "sensor_hr = sensor_hr.loc[(np.array(sensor_hr.value, dtype = int)!=0)]"
   ]
  },
  {
   "cell_type": "code",
   "execution_count": 4,
   "metadata": {},
   "outputs": [
    {
     "name": "stdout",
     "output_type": "stream",
     "text": [
      "52\n"
     ]
    },
    {
     "data": {
      "text/html": [
       "<div>\n",
       "<style scoped>\n",
       "    .dataframe tbody tr th:only-of-type {\n",
       "        vertical-align: middle;\n",
       "    }\n",
       "\n",
       "    .dataframe tbody tr th {\n",
       "        vertical-align: top;\n",
       "    }\n",
       "\n",
       "    .dataframe thead th {\n",
       "        text-align: right;\n",
       "    }\n",
       "</style>\n",
       "<table border=\"1\" class=\"dataframe\">\n",
       "  <thead>\n",
       "    <tr style=\"text-align: right;\">\n",
       "      <th></th>\n",
       "      <th>time</th>\n",
       "      <th>value</th>\n",
       "    </tr>\n",
       "  </thead>\n",
       "  <tbody>\n",
       "    <tr>\n",
       "      <td>70</td>\n",
       "      <td>3:12:09 PM</td>\n",
       "      <td>93.0</td>\n",
       "    </tr>\n",
       "    <tr>\n",
       "      <td>80</td>\n",
       "      <td>3:12:14 PM</td>\n",
       "      <td>94.0</td>\n",
       "    </tr>\n",
       "    <tr>\n",
       "      <td>90</td>\n",
       "      <td>3:12:19 PM</td>\n",
       "      <td>95.0</td>\n",
       "    </tr>\n",
       "    <tr>\n",
       "      <td>100</td>\n",
       "      <td>3:12:24 PM</td>\n",
       "      <td>91.0</td>\n",
       "    </tr>\n",
       "    <tr>\n",
       "      <td>110</td>\n",
       "      <td>3:12:29 PM</td>\n",
       "      <td>92.0</td>\n",
       "    </tr>\n",
       "    <tr>\n",
       "      <td>120</td>\n",
       "      <td>3:12:34 PM</td>\n",
       "      <td>100.0</td>\n",
       "    </tr>\n",
       "    <tr>\n",
       "      <td>130</td>\n",
       "      <td>3:12:39 PM</td>\n",
       "      <td>97.0</td>\n",
       "    </tr>\n",
       "    <tr>\n",
       "      <td>160</td>\n",
       "      <td>3:12:54 PM</td>\n",
       "      <td>102.0</td>\n",
       "    </tr>\n",
       "    <tr>\n",
       "      <td>170</td>\n",
       "      <td>3:12:59 PM</td>\n",
       "      <td>98.0</td>\n",
       "    </tr>\n",
       "    <tr>\n",
       "      <td>180</td>\n",
       "      <td>3:13:04 PM</td>\n",
       "      <td>97.0</td>\n",
       "    </tr>\n",
       "  </tbody>\n",
       "</table>\n",
       "</div>"
      ],
      "text/plain": [
       "           time  value\n",
       "70   3:12:09 PM   93.0\n",
       "80   3:12:14 PM   94.0\n",
       "90   3:12:19 PM   95.0\n",
       "100  3:12:24 PM   91.0\n",
       "110  3:12:29 PM   92.0\n",
       "120  3:12:34 PM  100.0\n",
       "130  3:12:39 PM   97.0\n",
       "160  3:12:54 PM  102.0\n",
       "170  3:12:59 PM   98.0\n",
       "180  3:13:04 PM   97.0"
      ]
     },
     "metadata": {},
     "output_type": "display_data"
    },
    {
     "data": {
      "text/plain": [
       "51"
      ]
     },
     "execution_count": 4,
     "metadata": {},
     "output_type": "execute_result"
    },
    {
     "data": {
      "image/png": "[encoded data removed]",
      "text/plain": [
       "<Figure size 1152x504 with 1 Axes>"
      ]
     },
     "metadata": {
      "needs_background": "light"
     },
     "output_type": "display_data"
    }
   ],
   "source": [
    "# EDA\n",
    "fig, ax = plt.subplots(1,1, figsize = (16,7))\n",
    "plt.plot(sensor_hr.value)\n",
    "plt.title('Nonconsecutive Heart Rate Readings from Sensor')\n",
    "plt.xlabel('Samples')\n",
    "plt.ylabel('HR (beats per minute)')\n",
    "print(len(sensor_hr))\n",
    "# extracting consecutive (4-minute) reading\n",
    "sensor_hr = sensor_hr.tail(51)\n",
    "display(sensor_hr.head(10))\n",
    "# reading in CSV file for blood volume pulse data (algorithm)\n",
    "\n",
    "# # 5:13:58 PM, hours:minutes:seconds, dropping the first row (has sampling frequency)\n",
    "# print(\"This is the sampling frequency in Hertz for the blood volume pulse (BVP) readings:\",pd.read_csv(\"CHL_BVP_1124.csv\").iloc[0][0])\n",
    "# sampling_rate_bvp = (pd.read_csv(\"CHL_BVP_1124.csv\").iloc[0])[0] # hertz, or samples per second\n",
    "# bvp = pd.read_csv(\"CHL_BVP_1124.csv\").iloc[1:]\n",
    "# bvp.tail(10)\n",
    "len(sensor_hr)"
   ]
  },
  {
   "cell_type": "code",
   "execution_count": 5,
   "metadata": {},
   "outputs": [],
   "source": [
    "# # find the samples that line up with 5:28:10 and 5:32:30 PM\n",
    "# # 5:13:58 PM is start\n",
    "\n",
    "# # 1. find 5:28:10 PM, which is 14 minutes and 12 seconds from when the first data was taken at 5:13:58 PM\n",
    "# to_528PM_bvp = int(sampling_rate_bvp*((14*60)+12))\n",
    "\n",
    "# # 2. find 5:32:30 PM, which is 4 minutes and 20 seconds from 5:28:10 PM\n",
    "# to_532PM_bvp = int(to_528PM_bvp + (sampling_rate_bvp*((4*60)+20)))\n",
    "\n",
    "# # checking to make sure the difference is 4 minutes and 20 seconds worth of data\n",
    "# print(str(((to_532PM_bvp-to_528PM_bvp)/sampling_rate_bvp)/60)+str(' minutes'))\n",
    "\n",
    "# bvp.head()"
   ]
  },
  {
   "cell_type": "markdown",
   "metadata": {},
   "source": [
    "# Exploratory Data Analysis of Blood Volume Pulse (BVP) Reading from E4 Band"
   ]
  },
  {
   "cell_type": "code",
   "execution_count": 6,
   "metadata": {
    "scrolled": false
   },
   "outputs": [],
   "source": [
    "# # visualization\n",
    "# sample_bvp = bvp.iloc[to_528PM_bvp:to_532PM_bvp]\n",
    "\n",
    "# fig, ax = plt.subplots(1,1, figsize = (16,7))\n",
    "# plt.plot(sample_bvp)\n",
    "# plt.xlabel('Samples')\n",
    "# plt.ylabel('BVP Value')\n",
    "# plt.title('Blood Volume Pulse (BVP) Samples');"
   ]
  },
  {
   "cell_type": "markdown",
   "metadata": {},
   "source": [
    "The above graph shows the raw photoplethysmography data as taken from the Empatica E4 band. More on photoplethysmography below."
   ]
  },
  {
   "cell_type": "code",
   "execution_count": 7,
   "metadata": {},
   "outputs": [],
   "source": [
    "# create a function that reads in 5 second chunks of data, (optionally) finds the peaks in these five second chunks, and \n",
    "# outputs an approximate HR value\n",
    "\n",
    "\n",
    "def chunks(array, n, peak_choice='Y'):\n",
    "    '''\n",
    "    function for dividing the detected peaks.\n",
    "    array - the array to be divided\n",
    "    n - number of samples per chunk (# seconds that you want to window * sampling frequency)\n",
    "    '''\n",
    "    subset = {}\n",
    "    if peak_choice == 'Y':\n",
    "        subset_int_hr = {}\n",
    "        subset_float_hr = {}\n",
    "    print(type(len(array)))\n",
    "    for i, index in enumerate(range(0, len(array), n)):\n",
    "        time_array = np.linspace(index/int(sampling_rate_bvp), ((index+n)/int(sampling_rate_bvp)), n)\n",
    "        subset[str(i)] = np.array(array[index:index+n])\n",
    "        if peak_choice == 'Y':\n",
    "            indices = signal.find_peaks_cwt(subset[str(i)].reshape(320,), widths = np.ones(subset[str(i)].shape)*15)\n",
    "            subset_int_hr[str(i)] = len(indices)*12 # to calculate heart rate in integer form\n",
    "            subset_float_hr[str(i)] = np.round((len(indices)*60)/(np.abs(indices[0] - indices[-1])/sampling_rate_bvp),2)\n",
    "            plt.scatter((indices/int(sampling_rate_bvp))+(index/int(sampling_rate_bvp)), subset[str(i)][indices], color = 'orange')\n",
    "            plt.plot(time_array,subset[str(i)])\n",
    "            plt.xlabel('Time (sec)')\n",
    "            plt.ylabel('Value')\n",
    "            plt.title('BVP over time: Chunk '+str(i))\n",
    "            plt.show()\n",
    "    if peak_choice == 'Y':\n",
    "        return subset, subset_int_hr, subset_float_hr\n",
    "    return subset"
   ]
  },
  {
   "cell_type": "code",
   "execution_count": 8,
   "metadata": {
    "scrolled": true
   },
   "outputs": [
    {
     "ename": "NameError",
     "evalue": "name 'sampling_rate_bvp' is not defined",
     "output_type": "error",
     "traceback": [
      "\u001b[0;31m---------------------------------------------------------------------------\u001b[0m",
      "\u001b[0;31mNameError\u001b[0m                                 Traceback (most recent call last)",
      "\u001b[0;32m<ipython-input-8-f8fba9f2b83c>\u001b[0m in \u001b[0;36m<module>\u001b[0;34m\u001b[0m\n\u001b[0;32m----> 1\u001b[0;31m \u001b[0mprint\u001b[0m\u001b[0;34m(\u001b[0m\u001b[0mtype\u001b[0m\u001b[0;34m(\u001b[0m\u001b[0msampling_rate_bvp\u001b[0m\u001b[0;34m)\u001b[0m\u001b[0;34m)\u001b[0m\u001b[0;34m\u001b[0m\u001b[0;34m\u001b[0m\u001b[0m\n\u001b[0m\u001b[1;32m      2\u001b[0m \u001b[0mchunks_bvp\u001b[0m\u001b[0;34m,\u001b[0m \u001b[0mhr_from_bvp\u001b[0m\u001b[0;34m,\u001b[0m \u001b[0mhr_float_from_bvp\u001b[0m \u001b[0;34m=\u001b[0m \u001b[0mchunks\u001b[0m\u001b[0;34m(\u001b[0m\u001b[0msample_bvp\u001b[0m\u001b[0;34m,\u001b[0m \u001b[0mint\u001b[0m\u001b[0;34m(\u001b[0m\u001b[0;36m5\u001b[0m\u001b[0;34m*\u001b[0m\u001b[0msampling_rate_bvp\u001b[0m\u001b[0;34m)\u001b[0m\u001b[0;34m)\u001b[0m\u001b[0;34m\u001b[0m\u001b[0;34m\u001b[0m\u001b[0m\n",
      "\u001b[0;31mNameError\u001b[0m: name 'sampling_rate_bvp' is not defined"
     ]
    }
   ],
   "source": [
    "print(type(sampling_rate_bvp))\n",
    "chunks_bvp, hr_from_bvp, hr_float_from_bvp = chunks(sample_bvp, int(5*sampling_rate_bvp))"
   ]
  },
  {
   "cell_type": "markdown",
   "metadata": {},
   "source": [
    "# 5 SECOND CHUNKS FROM EMPATICA\n",
    "\n",
    "The previous graphs are 5-second representations of a consecutive 4 minute and 20 second blood volume pulse reading from an Empatica E4 Band [https://www.empatica.com/research/e4/]. This band uses photoplethysmography to find blood volume pulse (sampling frequency = 64 Hz). Photoplethysmography measures the absorption of light (red light) in blood, which varies with blood volume, a direct measure of pulse rate [https://www.ncbi.nlm.nih.gov/pubmed/17322588].\n",
    "\n",
    "The function `find_peaks_cwt` returns the indices of the peaks of an inputted dataset. In the function `chunks`, `find_peaks_cwt` locates the peaks, equivalent to heart beats, in each 5-second subset of the original dataset and the variable `indices` stores this value. Heart rate in beats per minute is the product of the length of this array (in units of integer peaks/beats per 5 seconds) by 12. The number of peaks in these subsets range from 5 to 7, which results in heart rates of 60, 72, and 84 beats per minute.\n",
    "\n",
    "`chunks` also returns a float interpretation of heart rate. In this approach, the indices of the peaks/beats represent the time between the total number of peaks/beats in that 5-second interval. After converting from number of samples to time, the quotient of the number of peaks/beats and the time between these peaks/beats is the number of heart beats per second, which represents heart rate in beats per minute once multiplied by 60 sec/min."
   ]
  },
  {
   "cell_type": "code",
   "execution_count": 9,
   "metadata": {
    "scrolled": true
   },
   "outputs": [
    {
     "ename": "NameError",
     "evalue": "name 'chunks_bvp' is not defined",
     "output_type": "error",
     "traceback": [
      "\u001b[0;31m---------------------------------------------------------------------------\u001b[0m",
      "\u001b[0;31mNameError\u001b[0m                                 Traceback (most recent call last)",
      "\u001b[0;32m<ipython-input-9-7192cf4b3170>\u001b[0m in \u001b[0;36m<module>\u001b[0;34m\u001b[0m\n\u001b[1;32m      1\u001b[0m \u001b[0;31m# playing with data\u001b[0m\u001b[0;34m\u001b[0m\u001b[0;34m\u001b[0m\u001b[0;34m\u001b[0m\u001b[0m\n\u001b[0;32m----> 2\u001b[0;31m \u001b[0mindices\u001b[0m \u001b[0;34m=\u001b[0m \u001b[0msignal\u001b[0m\u001b[0;34m.\u001b[0m\u001b[0mfind_peaks_cwt\u001b[0m\u001b[0;34m(\u001b[0m\u001b[0mchunks_bvp\u001b[0m\u001b[0;34m[\u001b[0m\u001b[0mstr\u001b[0m\u001b[0;34m(\u001b[0m\u001b[0;36m1\u001b[0m\u001b[0;34m)\u001b[0m\u001b[0;34m]\u001b[0m\u001b[0;34m.\u001b[0m\u001b[0mreshape\u001b[0m\u001b[0;34m(\u001b[0m\u001b[0;36m320\u001b[0m\u001b[0;34m,\u001b[0m\u001b[0;34m)\u001b[0m\u001b[0;34m,\u001b[0m \u001b[0mwidths\u001b[0m \u001b[0;34m=\u001b[0m \u001b[0mnp\u001b[0m\u001b[0;34m.\u001b[0m\u001b[0mones\u001b[0m\u001b[0;34m(\u001b[0m\u001b[0mchunks_bvp\u001b[0m\u001b[0;34m[\u001b[0m\u001b[0mstr\u001b[0m\u001b[0;34m(\u001b[0m\u001b[0;36m1\u001b[0m\u001b[0;34m)\u001b[0m\u001b[0;34m]\u001b[0m\u001b[0;34m.\u001b[0m\u001b[0mshape\u001b[0m\u001b[0;34m)\u001b[0m\u001b[0;34m*\u001b[0m\u001b[0;36m10\u001b[0m\u001b[0;34m)\u001b[0m\u001b[0;34m\u001b[0m\u001b[0;34m\u001b[0m\u001b[0m\n\u001b[0m\u001b[1;32m      3\u001b[0m \u001b[0mprint\u001b[0m\u001b[0;34m(\u001b[0m\u001b[0;34m\"This is the shape of the array (with peak indices) returned by find_peaks_cwt:\"\u001b[0m\u001b[0;34m,\u001b[0m \u001b[0mchunks_bvp\u001b[0m\u001b[0;34m[\u001b[0m\u001b[0mstr\u001b[0m\u001b[0;34m(\u001b[0m\u001b[0;36m1\u001b[0m\u001b[0;34m)\u001b[0m\u001b[0;34m]\u001b[0m\u001b[0;34m[\u001b[0m\u001b[0mindices\u001b[0m\u001b[0;34m]\u001b[0m\u001b[0;34m.\u001b[0m\u001b[0mshape\u001b[0m\u001b[0;34m)\u001b[0m\u001b[0;34m\u001b[0m\u001b[0;34m\u001b[0m\u001b[0m\n\u001b[1;32m      4\u001b[0m \u001b[0mplt\u001b[0m\u001b[0;34m.\u001b[0m\u001b[0mscatter\u001b[0m\u001b[0;34m(\u001b[0m\u001b[0mindices\u001b[0m\u001b[0;34m.\u001b[0m\u001b[0mreshape\u001b[0m\u001b[0;34m(\u001b[0m\u001b[0;34m-\u001b[0m\u001b[0;36m1\u001b[0m\u001b[0;34m,\u001b[0m\u001b[0;36m1\u001b[0m\u001b[0;34m)\u001b[0m\u001b[0;34m,\u001b[0m \u001b[0mchunks_bvp\u001b[0m\u001b[0;34m[\u001b[0m\u001b[0mstr\u001b[0m\u001b[0;34m(\u001b[0m\u001b[0;36m1\u001b[0m\u001b[0;34m)\u001b[0m\u001b[0;34m]\u001b[0m\u001b[0;34m[\u001b[0m\u001b[0mindices\u001b[0m\u001b[0;34m]\u001b[0m\u001b[0;34m)\u001b[0m\u001b[0;34m\u001b[0m\u001b[0;34m\u001b[0m\u001b[0m\n\u001b[1;32m      5\u001b[0m \u001b[0mplt\u001b[0m\u001b[0;34m.\u001b[0m\u001b[0mplot\u001b[0m\u001b[0;34m(\u001b[0m\u001b[0mchunks_bvp\u001b[0m\u001b[0;34m[\u001b[0m\u001b[0mstr\u001b[0m\u001b[0;34m(\u001b[0m\u001b[0;36m1\u001b[0m\u001b[0;34m)\u001b[0m\u001b[0;34m]\u001b[0m\u001b[0;34m)\u001b[0m\u001b[0;34m;\u001b[0m\u001b[0;34m\u001b[0m\u001b[0;34m\u001b[0m\u001b[0m\n",
      "\u001b[0;31mNameError\u001b[0m: name 'chunks_bvp' is not defined"
     ]
    }
   ],
   "source": [
    "# playing with data\n",
    "indices = signal.find_peaks_cwt(chunks_bvp[str(1)].reshape(320,), widths = np.ones(chunks_bvp[str(1)].shape)*10)\n",
    "print(\"This is the shape of the array (with peak indices) returned by find_peaks_cwt:\", chunks_bvp[str(1)][indices].shape)\n",
    "plt.scatter(indices.reshape(-1,1), chunks_bvp[str(1)][indices])\n",
    "plt.plot(chunks_bvp[str(1)]);"
   ]
  },
  {
   "cell_type": "code",
   "execution_count": 10,
   "metadata": {},
   "outputs": [
    {
     "ename": "NameError",
     "evalue": "name 'hr_float_from_bvp' is not defined",
     "output_type": "error",
     "traceback": [
      "\u001b[0;31m---------------------------------------------------------------------------\u001b[0m",
      "\u001b[0;31mNameError\u001b[0m                                 Traceback (most recent call last)",
      "\u001b[0;32m<ipython-input-10-e3905a9d41b5>\u001b[0m in \u001b[0;36m<module>\u001b[0;34m\u001b[0m\n\u001b[0;32m----> 1\u001b[0;31m \u001b[0mtype\u001b[0m\u001b[0;34m(\u001b[0m\u001b[0mhr_float_from_bvp\u001b[0m\u001b[0;34m)\u001b[0m\u001b[0;34m\u001b[0m\u001b[0;34m\u001b[0m\u001b[0m\n\u001b[0m",
      "\u001b[0;31mNameError\u001b[0m: name 'hr_float_from_bvp' is not defined"
     ]
    }
   ],
   "source": [
    "type(hr_float_from_bvp)"
   ]
  },
  {
   "cell_type": "code",
   "execution_count": 11,
   "metadata": {},
   "outputs": [
    {
     "data": {
      "text/plain": [
       "51"
      ]
     },
     "execution_count": 11,
     "metadata": {},
     "output_type": "execute_result"
    }
   ],
   "source": [
    "# # dropping last five seconds of hr_from_bvp to make the data frames with peaks from my algorithm (hr_from_bvp) \n",
    "# # and sensor_hr\n",
    "# print(len(hr_from_bvp), len(sensor_hr))\n",
    "# hr_from_bvp_drop1 = pd.DataFrame.from_dict(hr_from_bvp,orient = 'index').iloc[0:51]\n",
    "# hr_float_from_bvp = pd.DataFrame.from_dict(hr_float_from_bvp, orient = 'index')\n",
    "\n",
    "# # ensuring lengths are the same\n",
    "# print(str('Lengths ') + str(len(hr_from_bvp_drop1))+(', ')+str(len(sensor_hr)))\n",
    "comparison = pd.DataFrame()\n",
    "# comparison['algorithm'] = hr_from_bvp_drop1[0]\n",
    "# comparison['algorithm_float'] = pd.DataFrame.from_dict(hr_float_from_bvp)\n",
    "comparison['sensor'] = (np.array(sensor_hr.value, dtype = int))\n",
    "len(comparison)"
   ]
  },
  {
   "cell_type": "code",
   "execution_count": 12,
   "metadata": {
    "scrolled": false
   },
   "outputs": [],
   "source": [
    "# # comparison of calculated HR versus band HR versus finger sensor\n",
    "# # fig, ax = plt.subplots(2,1, figsize = (16,7))\n",
    "# # ax[0].scatter(np.arange(len(hr_from_bvp_drop1)), hr_from_bvp_drop1)\n",
    "# # ax[0].scatter(np.arange(len(sensor_hr)), sensor_hr.value)\n",
    "\n",
    "\n",
    "# fig,ax = plt.subplots(1,1, figsize = (16,7))\n",
    "\n",
    "# ax.scatter(np.linspace(0, len(comparison)*5, len(comparison)), comparison.algorithm, c='b', marker=\"s\", label='Algorithm')\n",
    "# ax.scatter(np.linspace(0, len(comparison)*5, len(comparison)), comparison.algorithm_float, c='orange', marker=\"*\", label='Algorithm2')\n",
    "# ax.scatter(np.linspace(0, len(comparison)*5, len(comparison)), comparison.sensor, c='r', marker=\"o\", label='Sensor')\n",
    "# plt.legend(loc='upper left')\n",
    "# plt.xlabel('Time (sec)')\n",
    "# plt.ylabel('Heart Rate (beats per minute)')\n",
    "# plt.title('Comparison of Heart Rate Measured by Algorithm and Sensor')\n",
    "# plt.show()"
   ]
  },
  {
   "cell_type": "markdown",
   "metadata": {},
   "source": [
    "# COMPARISON OF SENSOR HEART RATE AND 2 ALGORITHMS\n",
    "\n",
    "The x-axis represents the 5-second subsets in time (seconds) and the y-axis represents the value of heart rate when acquired by the Sparkfun sensor, the first peak finder algorithm, and the second peak finder algorithm."
   ]
  },
  {
   "cell_type": "code",
   "execution_count": 13,
   "metadata": {},
   "outputs": [
    {
     "data": {
      "text/html": [
       "<div>\n",
       "<style scoped>\n",
       "    .dataframe tbody tr th:only-of-type {\n",
       "        vertical-align: middle;\n",
       "    }\n",
       "\n",
       "    .dataframe tbody tr th {\n",
       "        vertical-align: top;\n",
       "    }\n",
       "\n",
       "    .dataframe thead th {\n",
       "        text-align: right;\n",
       "    }\n",
       "</style>\n",
       "<table border=\"1\" class=\"dataframe\">\n",
       "  <thead>\n",
       "    <tr style=\"text-align: right;\">\n",
       "      <th></th>\n",
       "      <th>1574712632</th>\n",
       "    </tr>\n",
       "  </thead>\n",
       "  <tbody>\n",
       "    <tr>\n",
       "      <td>0</td>\n",
       "      <td>1.00</td>\n",
       "    </tr>\n",
       "    <tr>\n",
       "      <td>1</td>\n",
       "      <td>98.00</td>\n",
       "    </tr>\n",
       "    <tr>\n",
       "      <td>2</td>\n",
       "      <td>98.00</td>\n",
       "    </tr>\n",
       "    <tr>\n",
       "      <td>3</td>\n",
       "      <td>93.00</td>\n",
       "    </tr>\n",
       "    <tr>\n",
       "      <td>4</td>\n",
       "      <td>98.25</td>\n",
       "    </tr>\n",
       "    <tr>\n",
       "      <td>...</td>\n",
       "      <td>...</td>\n",
       "    </tr>\n",
       "    <tr>\n",
       "      <td>402</td>\n",
       "      <td>99.65</td>\n",
       "    </tr>\n",
       "    <tr>\n",
       "      <td>403</td>\n",
       "      <td>99.72</td>\n",
       "    </tr>\n",
       "    <tr>\n",
       "      <td>404</td>\n",
       "      <td>99.72</td>\n",
       "    </tr>\n",
       "    <tr>\n",
       "      <td>405</td>\n",
       "      <td>99.68</td>\n",
       "    </tr>\n",
       "    <tr>\n",
       "      <td>406</td>\n",
       "      <td>99.73</td>\n",
       "    </tr>\n",
       "  </tbody>\n",
       "</table>\n",
       "<p>407 rows × 1 columns</p>\n",
       "</div>"
      ],
      "text/plain": [
       "     1574712632\n",
       "0          1.00\n",
       "1         98.00\n",
       "2         98.00\n",
       "3         93.00\n",
       "4         98.25\n",
       "..          ...\n",
       "402       99.65\n",
       "403       99.72\n",
       "404       99.72\n",
       "405       99.68\n",
       "406       99.73\n",
       "\n",
       "[407 rows x 1 columns]"
      ]
     },
     "execution_count": 13,
     "metadata": {},
     "output_type": "execute_result"
    }
   ],
   "source": [
    "FILE2 = 'MJ_HR_1125.csv'\n",
    "hr_from_band = pd.read_csv(FILE2)\n",
    "hr_from_band"
   ]
  },
  {
   "cell_type": "code",
   "execution_count": 14,
   "metadata": {},
   "outputs": [
    {
     "name": "stdout",
     "output_type": "stream",
     "text": [
      "33\n",
      "293\n",
      "4.333333333333333\n",
      "260\n"
     ]
    }
   ],
   "source": [
    "# start time 3:10:32 PM, data collection wanted from 3:11:05 PM to 4 minutes later\n",
    "sampling_rate_hr = 1 # Hz\n",
    "\n",
    "# find the samples that line up with 1:11:46 PM to 1:17:25 PM\n",
    "\n",
    "# 1. find 1:11:46 PM, which is 0 minutes and 33 seconds from when the first data was taken\n",
    "to_528PM_hr = sampling_rate_hr*((0*60)+33) \n",
    "print(to_528PM_hr)\n",
    "\n",
    "# 2. find 5:32:30 PM, which is 4 minutes and 20 seconds from 5:28:10 PM\n",
    "to_532PM_hr = to_528PM_hr + (sampling_rate_hr*((4*60)+20))\n",
    "print(to_532PM_hr)\n",
    "\n",
    "# checking to make sure the difference is 4 minutes and 20 seconds worth of data\n",
    "print(((to_532PM_hr-to_528PM_hr)/sampling_rate_hr)/60)\n",
    "print(to_532PM_hr-to_528PM_hr)"
   ]
  },
  {
   "cell_type": "code",
   "execution_count": 15,
   "metadata": {},
   "outputs": [
    {
     "data": {
      "text/html": [
       "<div>\n",
       "<style scoped>\n",
       "    .dataframe tbody tr th:only-of-type {\n",
       "        vertical-align: middle;\n",
       "    }\n",
       "\n",
       "    .dataframe tbody tr th {\n",
       "        vertical-align: top;\n",
       "    }\n",
       "\n",
       "    .dataframe thead th {\n",
       "        text-align: right;\n",
       "    }\n",
       "</style>\n",
       "<table border=\"1\" class=\"dataframe\">\n",
       "  <thead>\n",
       "    <tr style=\"text-align: right;\">\n",
       "      <th></th>\n",
       "      <th>1574712632</th>\n",
       "    </tr>\n",
       "  </thead>\n",
       "  <tbody>\n",
       "    <tr>\n",
       "      <td>1</td>\n",
       "      <td>98.00</td>\n",
       "    </tr>\n",
       "    <tr>\n",
       "      <td>2</td>\n",
       "      <td>98.00</td>\n",
       "    </tr>\n",
       "    <tr>\n",
       "      <td>3</td>\n",
       "      <td>93.00</td>\n",
       "    </tr>\n",
       "    <tr>\n",
       "      <td>4</td>\n",
       "      <td>98.25</td>\n",
       "    </tr>\n",
       "    <tr>\n",
       "      <td>5</td>\n",
       "      <td>90.40</td>\n",
       "    </tr>\n",
       "    <tr>\n",
       "      <td>...</td>\n",
       "      <td>...</td>\n",
       "    </tr>\n",
       "    <tr>\n",
       "      <td>402</td>\n",
       "      <td>99.65</td>\n",
       "    </tr>\n",
       "    <tr>\n",
       "      <td>403</td>\n",
       "      <td>99.72</td>\n",
       "    </tr>\n",
       "    <tr>\n",
       "      <td>404</td>\n",
       "      <td>99.72</td>\n",
       "    </tr>\n",
       "    <tr>\n",
       "      <td>405</td>\n",
       "      <td>99.68</td>\n",
       "    </tr>\n",
       "    <tr>\n",
       "      <td>406</td>\n",
       "      <td>99.73</td>\n",
       "    </tr>\n",
       "  </tbody>\n",
       "</table>\n",
       "<p>406 rows × 1 columns</p>\n",
       "</div>"
      ],
      "text/plain": [
       "     1574712632\n",
       "1         98.00\n",
       "2         98.00\n",
       "3         93.00\n",
       "4         98.25\n",
       "5         90.40\n",
       "..          ...\n",
       "402       99.65\n",
       "403       99.72\n",
       "404       99.72\n",
       "405       99.68\n",
       "406       99.73\n",
       "\n",
       "[406 rows x 1 columns]"
      ]
     },
     "metadata": {},
     "output_type": "display_data"
    },
    {
     "data": {
      "image/png": "[encoded data removed]",
      "text/plain": [
       "<Figure size 1152x504 with 1 Axes>"
      ]
     },
     "metadata": {
      "needs_background": "light"
     },
     "output_type": "display_data"
    }
   ],
   "source": [
    "# dropping first row (contains the sampling frequency)\n",
    "hr_from_band = hr_from_band.iloc[1:]\n",
    "display(hr_from_band)\n",
    "\n",
    "band_four_min = hr_from_band.iloc[to_528PM_hr:to_532PM_hr]\n",
    "time_hr = np.linspace(0, len(comparison), len(band_four_min[::5]))\n",
    "\n",
    "fig,ax = plt.subplots(1,1, figsize = (16,7))\n",
    "\n",
    "# ax.scatter(np.arange(len(comparison)), comparison.algorithm, c='b', marker=\"s\", label='Algorithm')\n",
    "ax.plot(np.arange(len(comparison)), comparison.sensor, c='r', marker=\"o\", label='Sensor')\n",
    "ax.plot(time_hr, band_four_min[::5], c='green', marker=\"+\", label='Band');\n",
    "plt.legend(loc='upper left')\n",
    "plt.xlabel('Heart Rate Estimation Sample')\n",
    "plt.ylabel('Heart Rate (beats per minute)')\n",
    "plt.title('Comparison of Heart Rate Measured by Band and Sensor')\n",
    "fig1 = plt.gcf()\n",
    "fig1.savefig('HR from Band vs HR from Sensor.png')\n",
    "\n",
    "pickle.dump(comparison.sensor, open(str('MJ_sensor.p'), 'wb'))\n",
    "pickle.dump(band_four_min[::5], open(str('MJ_band.p'), 'wb'))"
   ]
  },
  {
   "cell_type": "code",
   "execution_count": 16,
   "metadata": {},
   "outputs": [
    {
     "data": {
      "text/html": [
       "<div>\n",
       "<style scoped>\n",
       "    .dataframe tbody tr th:only-of-type {\n",
       "        vertical-align: middle;\n",
       "    }\n",
       "\n",
       "    .dataframe tbody tr th {\n",
       "        vertical-align: top;\n",
       "    }\n",
       "\n",
       "    .dataframe thead th {\n",
       "        text-align: right;\n",
       "    }\n",
       "</style>\n",
       "<table border=\"1\" class=\"dataframe\">\n",
       "  <thead>\n",
       "    <tr style=\"text-align: right;\">\n",
       "      <th></th>\n",
       "      <th>sensor</th>\n",
       "    </tr>\n",
       "  </thead>\n",
       "  <tbody>\n",
       "    <tr>\n",
       "      <td>0</td>\n",
       "      <td>93</td>\n",
       "    </tr>\n",
       "    <tr>\n",
       "      <td>1</td>\n",
       "      <td>94</td>\n",
       "    </tr>\n",
       "    <tr>\n",
       "      <td>2</td>\n",
       "      <td>95</td>\n",
       "    </tr>\n",
       "    <tr>\n",
       "      <td>3</td>\n",
       "      <td>91</td>\n",
       "    </tr>\n",
       "    <tr>\n",
       "      <td>4</td>\n",
       "      <td>92</td>\n",
       "    </tr>\n",
       "    <tr>\n",
       "      <td>5</td>\n",
       "      <td>100</td>\n",
       "    </tr>\n",
       "    <tr>\n",
       "      <td>6</td>\n",
       "      <td>97</td>\n",
       "    </tr>\n",
       "    <tr>\n",
       "      <td>7</td>\n",
       "      <td>102</td>\n",
       "    </tr>\n",
       "    <tr>\n",
       "      <td>8</td>\n",
       "      <td>98</td>\n",
       "    </tr>\n",
       "    <tr>\n",
       "      <td>9</td>\n",
       "      <td>97</td>\n",
       "    </tr>\n",
       "    <tr>\n",
       "      <td>10</td>\n",
       "      <td>105</td>\n",
       "    </tr>\n",
       "    <tr>\n",
       "      <td>11</td>\n",
       "      <td>109</td>\n",
       "    </tr>\n",
       "    <tr>\n",
       "      <td>12</td>\n",
       "      <td>110</td>\n",
       "    </tr>\n",
       "    <tr>\n",
       "      <td>13</td>\n",
       "      <td>104</td>\n",
       "    </tr>\n",
       "    <tr>\n",
       "      <td>14</td>\n",
       "      <td>103</td>\n",
       "    </tr>\n",
       "    <tr>\n",
       "      <td>15</td>\n",
       "      <td>105</td>\n",
       "    </tr>\n",
       "    <tr>\n",
       "      <td>16</td>\n",
       "      <td>101</td>\n",
       "    </tr>\n",
       "    <tr>\n",
       "      <td>17</td>\n",
       "      <td>105</td>\n",
       "    </tr>\n",
       "    <tr>\n",
       "      <td>18</td>\n",
       "      <td>105</td>\n",
       "    </tr>\n",
       "    <tr>\n",
       "      <td>19</td>\n",
       "      <td>110</td>\n",
       "    </tr>\n",
       "    <tr>\n",
       "      <td>20</td>\n",
       "      <td>106</td>\n",
       "    </tr>\n",
       "    <tr>\n",
       "      <td>21</td>\n",
       "      <td>100</td>\n",
       "    </tr>\n",
       "    <tr>\n",
       "      <td>22</td>\n",
       "      <td>96</td>\n",
       "    </tr>\n",
       "    <tr>\n",
       "      <td>23</td>\n",
       "      <td>100</td>\n",
       "    </tr>\n",
       "    <tr>\n",
       "      <td>24</td>\n",
       "      <td>99</td>\n",
       "    </tr>\n",
       "    <tr>\n",
       "      <td>25</td>\n",
       "      <td>99</td>\n",
       "    </tr>\n",
       "    <tr>\n",
       "      <td>26</td>\n",
       "      <td>98</td>\n",
       "    </tr>\n",
       "    <tr>\n",
       "      <td>27</td>\n",
       "      <td>101</td>\n",
       "    </tr>\n",
       "    <tr>\n",
       "      <td>28</td>\n",
       "      <td>99</td>\n",
       "    </tr>\n",
       "    <tr>\n",
       "      <td>29</td>\n",
       "      <td>101</td>\n",
       "    </tr>\n",
       "    <tr>\n",
       "      <td>30</td>\n",
       "      <td>101</td>\n",
       "    </tr>\n",
       "    <tr>\n",
       "      <td>31</td>\n",
       "      <td>100</td>\n",
       "    </tr>\n",
       "    <tr>\n",
       "      <td>32</td>\n",
       "      <td>103</td>\n",
       "    </tr>\n",
       "    <tr>\n",
       "      <td>33</td>\n",
       "      <td>99</td>\n",
       "    </tr>\n",
       "    <tr>\n",
       "      <td>34</td>\n",
       "      <td>104</td>\n",
       "    </tr>\n",
       "    <tr>\n",
       "      <td>35</td>\n",
       "      <td>101</td>\n",
       "    </tr>\n",
       "    <tr>\n",
       "      <td>36</td>\n",
       "      <td>100</td>\n",
       "    </tr>\n",
       "    <tr>\n",
       "      <td>37</td>\n",
       "      <td>98</td>\n",
       "    </tr>\n",
       "    <tr>\n",
       "      <td>38</td>\n",
       "      <td>95</td>\n",
       "    </tr>\n",
       "    <tr>\n",
       "      <td>39</td>\n",
       "      <td>96</td>\n",
       "    </tr>\n",
       "    <tr>\n",
       "      <td>40</td>\n",
       "      <td>98</td>\n",
       "    </tr>\n",
       "    <tr>\n",
       "      <td>41</td>\n",
       "      <td>100</td>\n",
       "    </tr>\n",
       "    <tr>\n",
       "      <td>42</td>\n",
       "      <td>101</td>\n",
       "    </tr>\n",
       "    <tr>\n",
       "      <td>43</td>\n",
       "      <td>100</td>\n",
       "    </tr>\n",
       "    <tr>\n",
       "      <td>44</td>\n",
       "      <td>95</td>\n",
       "    </tr>\n",
       "    <tr>\n",
       "      <td>45</td>\n",
       "      <td>99</td>\n",
       "    </tr>\n",
       "    <tr>\n",
       "      <td>46</td>\n",
       "      <td>102</td>\n",
       "    </tr>\n",
       "    <tr>\n",
       "      <td>47</td>\n",
       "      <td>99</td>\n",
       "    </tr>\n",
       "    <tr>\n",
       "      <td>48</td>\n",
       "      <td>98</td>\n",
       "    </tr>\n",
       "    <tr>\n",
       "      <td>49</td>\n",
       "      <td>100</td>\n",
       "    </tr>\n",
       "    <tr>\n",
       "      <td>50</td>\n",
       "      <td>100</td>\n",
       "    </tr>\n",
       "  </tbody>\n",
       "</table>\n",
       "</div>"
      ],
      "text/plain": [
       "    sensor\n",
       "0       93\n",
       "1       94\n",
       "2       95\n",
       "3       91\n",
       "4       92\n",
       "5      100\n",
       "6       97\n",
       "7      102\n",
       "8       98\n",
       "9       97\n",
       "10     105\n",
       "11     109\n",
       "12     110\n",
       "13     104\n",
       "14     103\n",
       "15     105\n",
       "16     101\n",
       "17     105\n",
       "18     105\n",
       "19     110\n",
       "20     106\n",
       "21     100\n",
       "22      96\n",
       "23     100\n",
       "24      99\n",
       "25      99\n",
       "26      98\n",
       "27     101\n",
       "28      99\n",
       "29     101\n",
       "30     101\n",
       "31     100\n",
       "32     103\n",
       "33      99\n",
       "34     104\n",
       "35     101\n",
       "36     100\n",
       "37      98\n",
       "38      95\n",
       "39      96\n",
       "40      98\n",
       "41     100\n",
       "42     101\n",
       "43     100\n",
       "44      95\n",
       "45      99\n",
       "46     102\n",
       "47      99\n",
       "48      98\n",
       "49     100\n",
       "50     100"
      ]
     },
     "execution_count": 16,
     "metadata": {},
     "output_type": "execute_result"
    }
   ],
   "source": [
    "comparison"
   ]
  },
  {
   "cell_type": "code",
   "execution_count": 17,
   "metadata": {},
   "outputs": [
    {
     "name": "stdout",
     "output_type": "stream",
     "text": [
      "     1574712632\n",
      "34       107.68\n",
      "35       108.20\n",
      "36       108.78\n",
      "37       109.27\n",
      "38       109.76\n",
      "..          ...\n",
      "289       92.03\n",
      "290       92.55\n",
      "291       93.07\n",
      "292       93.57\n",
      "293       93.98\n",
      "\n",
      "[260 rows x 1 columns]\n"
     ]
    }
   ],
   "source": [
    "print(band_four_min)"
   ]
  },
  {
   "cell_type": "code",
   "execution_count": 22,
   "metadata": {
    "scrolled": false
   },
   "outputs": [
    {
     "data": {
      "image/png": "[encoded data removed]",
      "text/plain": [
       "<Figure size 1152x504 with 1 Axes>"
      ]
     },
     "metadata": {
      "needs_background": "light"
     },
     "output_type": "display_data"
    }
   ],
   "source": [
    "# plotting accuracy of heart rate between sensor and band (every fifth value)\n",
    "fig, ax = plt.subplots(1,1, figsize = (16,7))\n",
    "plt.scatter(comparison.sensor, band_four_min.iloc[0:255][::5])\n",
    "plt.plot(np.linspace(0, 120), np.linspace(0, 120), color = 'orange', label = 'y = x')\n",
    "plt.xlabel('Heart Rate Obtained via Sensor (bpm)')\n",
    "plt.ylabel('Heart Rate Obtained via Band (bpm)')\n",
    "plt.legend()\n",
    "plt.title('Comparison of Heart Rate as Taken from E4 Band and Sensor');"
   ]
  },
  {
   "cell_type": "code",
   "execution_count": 19,
   "metadata": {},
   "outputs": [
    {
     "name": "stdout",
     "output_type": "stream",
     "text": [
      "<class 'int'>\n"
     ]
    },
    {
     "ename": "NameError",
     "evalue": "name 'sampling_rate_bvp' is not defined",
     "output_type": "error",
     "traceback": [
      "\u001b[0;31m---------------------------------------------------------------------------\u001b[0m",
      "\u001b[0;31mNameError\u001b[0m                                 Traceback (most recent call last)",
      "\u001b[0;32m<ipython-input-19-aae48bdd3589>\u001b[0m in \u001b[0;36m<module>\u001b[0;34m\u001b[0m\n\u001b[1;32m      1\u001b[0m \u001b[0mfive_average_window_hr\u001b[0m \u001b[0;34m=\u001b[0m \u001b[0;34m[\u001b[0m\u001b[0;34m]\u001b[0m\u001b[0;34m\u001b[0m\u001b[0;34m\u001b[0m\u001b[0m\n\u001b[0;32m----> 2\u001b[0;31m \u001b[0mresults_hr\u001b[0m \u001b[0;34m=\u001b[0m \u001b[0mchunks\u001b[0m\u001b[0;34m(\u001b[0m\u001b[0mband_four_min\u001b[0m\u001b[0;34m.\u001b[0m\u001b[0miloc\u001b[0m\u001b[0;34m[\u001b[0m\u001b[0;36m0\u001b[0m\u001b[0;34m:\u001b[0m\u001b[0;36m255\u001b[0m\u001b[0;34m]\u001b[0m\u001b[0;34m,\u001b[0m \u001b[0;36m5\u001b[0m\u001b[0;34m,\u001b[0m \u001b[0mpeak_choice\u001b[0m\u001b[0;34m=\u001b[0m\u001b[0;34m'N'\u001b[0m\u001b[0;34m)\u001b[0m\u001b[0;34m\u001b[0m\u001b[0;34m\u001b[0m\u001b[0m\n\u001b[0m\u001b[1;32m      3\u001b[0m \u001b[0;32mfor\u001b[0m \u001b[0meach\u001b[0m \u001b[0;32min\u001b[0m \u001b[0mresults_hr\u001b[0m\u001b[0;34m:\u001b[0m\u001b[0;34m\u001b[0m\u001b[0;34m\u001b[0m\u001b[0m\n\u001b[1;32m      4\u001b[0m     \u001b[0mfive_average_window_hr\u001b[0m\u001b[0;34m.\u001b[0m\u001b[0mappend\u001b[0m\u001b[0;34m(\u001b[0m\u001b[0mnp\u001b[0m\u001b[0;34m.\u001b[0m\u001b[0mmean\u001b[0m\u001b[0;34m(\u001b[0m\u001b[0mresults_hr\u001b[0m\u001b[0;34m[\u001b[0m\u001b[0meach\u001b[0m\u001b[0;34m]\u001b[0m\u001b[0;34m)\u001b[0m\u001b[0;34m)\u001b[0m\u001b[0;34m\u001b[0m\u001b[0;34m\u001b[0m\u001b[0m\n\u001b[1;32m      5\u001b[0m \u001b[0mcomparison\u001b[0m\u001b[0;34m[\u001b[0m\u001b[0;34m'moving_average_5_band'\u001b[0m\u001b[0;34m]\u001b[0m \u001b[0;34m=\u001b[0m \u001b[0mfive_average_window_hr\u001b[0m\u001b[0;34m\u001b[0m\u001b[0;34m\u001b[0m\u001b[0m\n",
      "\u001b[0;32m<ipython-input-7-68d210785265>\u001b[0m in \u001b[0;36mchunks\u001b[0;34m(array, n, peak_choice)\u001b[0m\n\u001b[1;32m     15\u001b[0m     \u001b[0mprint\u001b[0m\u001b[0;34m(\u001b[0m\u001b[0mtype\u001b[0m\u001b[0;34m(\u001b[0m\u001b[0mlen\u001b[0m\u001b[0;34m(\u001b[0m\u001b[0marray\u001b[0m\u001b[0;34m)\u001b[0m\u001b[0;34m)\u001b[0m\u001b[0;34m)\u001b[0m\u001b[0;34m\u001b[0m\u001b[0;34m\u001b[0m\u001b[0m\n\u001b[1;32m     16\u001b[0m     \u001b[0;32mfor\u001b[0m \u001b[0mi\u001b[0m\u001b[0;34m,\u001b[0m \u001b[0mindex\u001b[0m \u001b[0;32min\u001b[0m \u001b[0menumerate\u001b[0m\u001b[0;34m(\u001b[0m\u001b[0mrange\u001b[0m\u001b[0;34m(\u001b[0m\u001b[0;36m0\u001b[0m\u001b[0;34m,\u001b[0m \u001b[0mlen\u001b[0m\u001b[0;34m(\u001b[0m\u001b[0marray\u001b[0m\u001b[0;34m)\u001b[0m\u001b[0;34m,\u001b[0m \u001b[0mn\u001b[0m\u001b[0;34m)\u001b[0m\u001b[0;34m)\u001b[0m\u001b[0;34m:\u001b[0m\u001b[0;34m\u001b[0m\u001b[0;34m\u001b[0m\u001b[0m\n\u001b[0;32m---> 17\u001b[0;31m         \u001b[0mtime_array\u001b[0m \u001b[0;34m=\u001b[0m \u001b[0mnp\u001b[0m\u001b[0;34m.\u001b[0m\u001b[0mlinspace\u001b[0m\u001b[0;34m(\u001b[0m\u001b[0mindex\u001b[0m\u001b[0;34m/\u001b[0m\u001b[0mint\u001b[0m\u001b[0;34m(\u001b[0m\u001b[0msampling_rate_bvp\u001b[0m\u001b[0;34m)\u001b[0m\u001b[0;34m,\u001b[0m \u001b[0;34m(\u001b[0m\u001b[0;34m(\u001b[0m\u001b[0mindex\u001b[0m\u001b[0;34m+\u001b[0m\u001b[0mn\u001b[0m\u001b[0;34m)\u001b[0m\u001b[0;34m/\u001b[0m\u001b[0mint\u001b[0m\u001b[0;34m(\u001b[0m\u001b[0msampling_rate_bvp\u001b[0m\u001b[0;34m)\u001b[0m\u001b[0;34m)\u001b[0m\u001b[0;34m,\u001b[0m \u001b[0mn\u001b[0m\u001b[0;34m)\u001b[0m\u001b[0;34m\u001b[0m\u001b[0;34m\u001b[0m\u001b[0m\n\u001b[0m\u001b[1;32m     18\u001b[0m         \u001b[0msubset\u001b[0m\u001b[0;34m[\u001b[0m\u001b[0mstr\u001b[0m\u001b[0;34m(\u001b[0m\u001b[0mi\u001b[0m\u001b[0;34m)\u001b[0m\u001b[0;34m]\u001b[0m \u001b[0;34m=\u001b[0m \u001b[0mnp\u001b[0m\u001b[0;34m.\u001b[0m\u001b[0marray\u001b[0m\u001b[0;34m(\u001b[0m\u001b[0marray\u001b[0m\u001b[0;34m[\u001b[0m\u001b[0mindex\u001b[0m\u001b[0;34m:\u001b[0m\u001b[0mindex\u001b[0m\u001b[0;34m+\u001b[0m\u001b[0mn\u001b[0m\u001b[0;34m]\u001b[0m\u001b[0;34m)\u001b[0m\u001b[0;34m\u001b[0m\u001b[0;34m\u001b[0m\u001b[0m\n\u001b[1;32m     19\u001b[0m         \u001b[0;32mif\u001b[0m \u001b[0mpeak_choice\u001b[0m \u001b[0;34m==\u001b[0m \u001b[0;34m'Y'\u001b[0m\u001b[0;34m:\u001b[0m\u001b[0;34m\u001b[0m\u001b[0;34m\u001b[0m\u001b[0m\n",
      "\u001b[0;31mNameError\u001b[0m: name 'sampling_rate_bvp' is not defined"
     ]
    }
   ],
   "source": [
    "five_average_window_hr = []\n",
    "results_hr = chunks(band_four_min.iloc[0:255], 5, peak_choice='N')\n",
    "for each in results_hr:\n",
    "    five_average_window_hr.append(np.mean(results_hr[each]))\n",
    "comparison['moving_average_5_band'] = five_average_window_hr"
   ]
  },
  {
   "cell_type": "code",
   "execution_count": null,
   "metadata": {},
   "outputs": [],
   "source": [
    "comparison['every_fifth_band'] = np.array(band_four_min.iloc[0:255][::5], dtype = float)\n",
    "\n",
    "band_four_min = hr_from_band.iloc[to_528PM_hr:to_532PM_hr]\n",
    "time_hr = np.linspace(0, len(comparison)*5, len(band_four_min[::5]))\n",
    "time_rolling = np.linspace(0, len(comparison.sensor)*5, len(comparison.moving_average_5_band))\n",
    "\n",
    "fig,ax = plt.subplots(1,1, figsize = (16,7))\n",
    "\n",
    "ax.scatter(time_rolling, comparison.algorithm, c='b', marker=\"s\", label='Algorithm')\n",
    "ax.scatter(time_rolling, comparison.sensor, c='r', marker=\"o\", label='Sensor')\n",
    "ax.scatter(time_hr, band_four_min[::5], c='green', marker=\"+\", label='Every 5th Value on Band');\n",
    "ax.scatter(time_rolling, comparison.moving_average_5_band, c='purple', marker=\"*\", label='Moving Average on Band');\n",
    "plt.legend(loc='upper left')\n",
    "plt.xlabel('Time (seconds)')\n",
    "plt.ylabel('Heart Rate (beats per minute)')\n",
    "plt.title('Comparison of Heart Rate Measured by Band, Sensor, and Algorithm')\n",
    "plt.show()"
   ]
  },
  {
   "cell_type": "code",
   "execution_count": null,
   "metadata": {
    "scrolled": true
   },
   "outputs": [],
   "source": [
    "comparison['stdev_sensor_band'] = np.std(comparison[['every_fifth_band','sensor']], axis = 1)\n",
    "comparison['mean_sensor_band'] = np.mean(comparison[['every_fifth_band','sensor']], axis = 1)\n",
    "comparison"
   ]
  },
  {
   "cell_type": "code",
   "execution_count": null,
   "metadata": {},
   "outputs": [],
   "source": [
    "fig,ax = plt.subplots(1,1, figsize = (16,7))\n",
    "\n",
    "ax.scatter(np.arange(len(comparison)), comparison.sensor, c='r', marker=\"o\", label='Sensor')\n",
    "ax.scatter(np.arange(len(comparison)), comparison.every_fifth_band, c='green', marker=\"+\", label='Every 5th Value on Band')\n",
    "ax.fill_between(np.arange(len(comparison)), (comparison.mean_sensor_band - (2*comparison.stdev_sensor_band)), comparison.mean_sensor_band + (2*comparison.stdev_sensor_band), alpha = 0.3)\n",
    "plt.legend(loc='upper left')\n",
    "plt.xlabel('Heart Rate Estimation Sample')\n",
    "plt.ylabel('Heart Rate (beats per minute)')\n",
    "plt.title('Comparison of Heart Rate Measured by Band and Sensor, with ± 2 standard deviations around mean')\n",
    "plt.show()"
   ]
  },
  {
   "cell_type": "code",
   "execution_count": null,
   "metadata": {},
   "outputs": [],
   "source": []
  }
 ],
 "metadata": {
  "kernelspec": {
   "display_name": "Python 3",
   "language": "python",
   "name": "python3"
  },
  "language_info": {
   "codemirror_mode": {
    "name": "ipython",
    "version": 3
   },
   "file_extension": ".py",
   "mimetype": "text/x-python",
   "name": "python",
   "nbconvert_exporter": "python",
   "pygments_lexer": "ipython3",
   "version": "3.7.4"
  }
 },
 "nbformat": 4,
 "nbformat_minor": 2
}
